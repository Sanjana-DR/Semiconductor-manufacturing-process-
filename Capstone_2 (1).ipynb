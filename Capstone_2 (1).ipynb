{
 "cells": [
  {
   "cell_type": "code",
   "execution_count": 1,
   "id": "b21175e1-2bd5-494a-b57f-f7ed826ac005",
   "metadata": {},
   "outputs": [
    {
     "name": "stdout",
     "output_type": "stream",
     "text": [
      "Libraries imported successfully.\n"
     ]
    }
   ],
   "source": [
    "# Capstone Project 2 — Semiconductor Manufacturing Yield Prediction\n",
    "# Author: Sanjana DR\n",
    "\n",
    "# Introduction:\n",
    "# This project focuses on predicting semiconductor manufacturing yield failures using sensor data from the production process. By analyzing sensor readings and identifying patterns that lead to defective products, the goal is to improve production efficiency, reduce costs, and increase product reliability.\n",
    "# The dataset contains multiple sensor measurements and a target column indicating whether a unit has passed (-1) or failed (1) quality testing.\n",
    "# Files required (place in the same folder as this notebook): sensor-data.csv\n",
    "\n",
    "# 1. Import libraries.\n",
    "# Summary: Important libraries are installed.\n",
    "\n",
    "import os\n",
    "import pandas as pd\n",
    "import numpy as np\n",
    "import matplotlib.pyplot as plt\n",
    "import seaborn as sns\n",
    "from sklearn.model_selection import train_test_split, GridSearchCV\n",
    "from sklearn.preprocessing import StandardScaler\n",
    "from sklearn.metrics import classification_report, accuracy_score, confusion_matrix\n",
    "from sklearn.ensemble import RandomForestClassifier\n",
    "from sklearn.svm import SVC\n",
    "from sklearn.naive_bayes import GaussianNB\n",
    "from imblearn.over_sampling import SMOTE\n",
    "import joblib\n",
    "\n",
    "sns.set_style('whitegrid')\n",
    "plt.rcParams['figure.figsize'] = (12, 6)\n",
    "print(\"Libraries imported successfully.\")"
   ]
  },
  {
   "cell_type": "code",
   "execution_count": 4,
   "id": "e8aea9eb-02db-427d-8e8c-cf356c9f3bc7",
   "metadata": {},
   "outputs": [
    {
     "name": "stdout",
     "output_type": "stream",
     "text": [
      "Loading data from signal-data.csv...\n",
      "Data shape: (1567, 592)\n"
     ]
    }
   ],
   "source": [
    "# 2. Load Data.\n",
    "# Summary: Load the csv file containing the sensor data and if the csv file is not found, it shows error.\n",
    "\n",
    "DATA_PATH = 'signal-data.csv'\n",
    "if not os.path.exists(DATA_PATH):\n",
    "    raise FileNotFoundError(f\"File not found: {DATA_PATH} (place it in your working directory)\")\n",
    "print(f\"Loading data from {DATA_PATH}...\")\n",
    "data = pd.read_csv(DATA_PATH, comment='#')\n",
    "print(\"Data shape:\", data.shape)\n",
    "\n"
   ]
  },
  {
   "cell_type": "code",
   "execution_count": 5,
   "id": "dcaa2522-74a2-4ba1-93db-996bb2de617a",
   "metadata": {},
   "outputs": [
    {
     "name": "stdout",
     "output_type": "stream",
     "text": [
      "\n",
      "First 5 rows:\n",
      "                  Time        0        1          2          3       4      5  \\\n",
      "0  2008-07-19 11:55:00  3030.93  2564.00  2187.7333  1411.1265  1.3602  100.0   \n",
      "1  2008-07-19 12:32:00  3095.78  2465.14  2230.4222  1463.6606  0.8294  100.0   \n",
      "2  2008-07-19 13:17:00  2932.61  2559.94  2186.4111  1698.0172  1.5102  100.0   \n",
      "3  2008-07-19 14:43:00  2988.72  2479.90  2199.0333   909.7926  1.3204  100.0   \n",
      "4  2008-07-19 15:22:00  3032.24  2502.87  2233.3667  1326.5200  1.5334  100.0   \n",
      "\n",
      "          6       7       8  ...       581     582     583     584      585  \\\n",
      "0   97.6133  0.1242  1.5005  ...       NaN  0.5005  0.0118  0.0035   2.3630   \n",
      "1  102.3433  0.1247  1.4966  ...  208.2045  0.5019  0.0223  0.0055   4.4447   \n",
      "2   95.4878  0.1241  1.4436  ...   82.8602  0.4958  0.0157  0.0039   3.1745   \n",
      "3  104.2367  0.1217  1.4882  ...   73.8432  0.4990  0.0103  0.0025   2.0544   \n",
      "4  100.3967  0.1235  1.5031  ...       NaN  0.4800  0.4766  0.1045  99.3032   \n",
      "\n",
      "      586     587     588       589  Pass/Fail  \n",
      "0     NaN     NaN     NaN       NaN         -1  \n",
      "1  0.0096  0.0201  0.0060  208.2045         -1  \n",
      "2  0.0584  0.0484  0.0148   82.8602          1  \n",
      "3  0.0202  0.0149  0.0044   73.8432         -1  \n",
      "4  0.0202  0.0149  0.0044   73.8432         -1  \n",
      "\n",
      "[5 rows x 592 columns]\n",
      "\n",
      "Data types:\n",
      "Time          object\n",
      "0            float64\n",
      "1            float64\n",
      "2            float64\n",
      "3            float64\n",
      "              ...   \n",
      "586          float64\n",
      "587          float64\n",
      "588          float64\n",
      "589          float64\n",
      "Pass/Fail      int64\n",
      "Length: 592, dtype: object\n",
      "\n",
      "Missing values count per column:\n",
      "0       6\n",
      "1       7\n",
      "2      14\n",
      "3      14\n",
      "4      14\n",
      "       ..\n",
      "585     1\n",
      "586     1\n",
      "587     1\n",
      "588     1\n",
      "589     1\n",
      "Length: 538, dtype: int64\n"
     ]
    }
   ],
   "source": [
    "# 3. Initial data exploration.\n",
    "# Summary: Inspect the first few rows, data types, and check for missing values.\n",
    "\n",
    "print(\"\\nFirst 5 rows:\")\n",
    "print(data.head())\n",
    "print(\"\\nData types:\")\n",
    "print(data.dtypes)\n",
    "print(\"\\nMissing values count per column:\")\n",
    "print(data.isnull().sum()[data.isnull().sum() > 0])\n",
    "\n"
   ]
  },
  {
   "cell_type": "code",
   "execution_count": 6,
   "id": "e02a4ae2-f36e-4dfe-bf5e-157082dd7e0d",
   "metadata": {},
   "outputs": [
    {
     "name": "stdout",
     "output_type": "stream",
     "text": [
      "\n",
      "Dropping non-numeric columns: ['Time']\n",
      "\n",
      "Filling missing numeric values with median...\n",
      "Remaining missing values after filling: 0\n"
     ]
    }
   ],
   "source": [
    "# 4. Data cleaning.\n",
    "# Summary: Remove non-numeric columns and fill missing values in numeric columns with the column median.\n",
    "\n",
    "non_numeric_cols = data.select_dtypes(exclude=[np.number]).columns.tolist()\n",
    "print(\"\\nDropping non-numeric columns:\", non_numeric_cols)\n",
    "data.drop(columns=non_numeric_cols, inplace=True)\n",
    "print(\"\\nFilling missing numeric values with median...\")\n",
    "data.fillna(data.median(), inplace=True)\n",
    "print(\"Remaining missing values after filling:\", data.isnull().sum().sum())\n",
    "\n"
   ]
  },
  {
   "cell_type": "code",
   "execution_count": 7,
   "id": "b0c22227-beb3-48e9-a5c6-159628f165b1",
   "metadata": {},
   "outputs": [
    {
     "name": "stdout",
     "output_type": "stream",
     "text": [
      "\n",
      "Target variable distribution:\n",
      "Pass/Fail\n",
      "-1    1463\n",
      " 1     104\n",
      "Name: count, dtype: int64\n"
     ]
    }
   ],
   "source": [
    "# 5. Define features and target.\n",
    "# According to project description, last column is target: -1 (pass), 1 (fail).\n",
    "# Summary: Separate features (X) from the target column (y).\n",
    "\n",
    "X = data.iloc[:, :-1]\n",
    "y = data.iloc[:, -1]\n",
    "print(\"\\nTarget variable distribution:\")\n",
    "print(y.value_counts())\n",
    "\n"
   ]
  },
  {
   "cell_type": "code",
   "execution_count": 8,
   "id": "ffc35f26-e4c2-49ba-bd57-41ab3798996c",
   "metadata": {},
   "outputs": [
    {
     "name": "stdout",
     "output_type": "stream",
     "text": [
      "\n",
      "Class distribution before SMOTE: Counter({-1: 1463, 1: 104})\n",
      "Applying SMOTE to balance classes...\n",
      "Class distribution after SMOTE: Counter({-1: 1463, 1: 1463})\n"
     ]
    }
   ],
   "source": [
    "# 6. Address target imbalance using SMOTE.\n",
    "# Summary: Use SMOTE to oversample the minority class if there is a class imbalance.\n",
    "\n",
    "from collections import Counter\n",
    "print(\"\\nClass distribution before SMOTE:\", Counter(y))\n",
    "if abs(y.value_counts(normalize=True)[-1] - 0.5) > 0.1:\n",
    "    print(\"Applying SMOTE to balance classes...\")\n",
    "    smote = SMOTE(random_state=42)\n",
    "    X_res, y_res = smote.fit_resample(X, y)\n",
    "    print(\"Class distribution after SMOTE:\", Counter(y_res))\n",
    "else:\n",
    "    print(\"Class distribution is balanced enough, skipping SMOTE.\")\n",
    "    X_res, y_res = X, y\n"
   ]
  },
  {
   "cell_type": "code",
   "execution_count": 9,
   "id": "371ad1d5-c472-4272-8021-e0c6e943aad3",
   "metadata": {},
   "outputs": [
    {
     "name": "stdout",
     "output_type": "stream",
     "text": [
      "\n",
      "Training set shape: (2340, 590), Testing set shape: (586, 590)\n"
     ]
    }
   ],
   "source": [
    "# 7. Train-test split.\n",
    "# Summary: Split the dataset into training and testing sets.\n",
    "\n",
    "X_train, X_test, y_train, y_test = train_test_split(\n",
    "    X_res, y_res, test_size=0.2, random_state=42, stratify=y_res)\n",
    "print(f\"\\nTraining set shape: {X_train.shape}, Testing set shape: {X_test.shape}\")\n",
    "\n"
   ]
  },
  {
   "cell_type": "code",
   "execution_count": 10,
   "id": "29c872d7-0a26-49e8-9e23-82a6cdc9cad3",
   "metadata": {},
   "outputs": [
    {
     "name": "stdout",
     "output_type": "stream",
     "text": [
      "Feature scaling completed.\n"
     ]
    }
   ],
   "source": [
    "# 8. Feature scaling.\n",
    "# Summary: Standardize features so they have mean 0 and variance 1.\n",
    "\n",
    "scaler = StandardScaler()\n",
    "X_train_scaled = scaler.fit_transform(X_train)\n",
    "X_test_scaled = scaler.transform(X_test)\n",
    "print(\"Feature scaling completed.\")\n",
    "\n"
   ]
  },
  {
   "cell_type": "code",
   "execution_count": 11,
   "id": "6affaf7c-5c6a-4147-9fa1-189c1f804744",
   "metadata": {},
   "outputs": [],
   "source": [
    "# 9. Model training, hyperparameter tuning and evaluation function.\n",
    "# Summary: Define a reusable function to train, tune, and evaluate models.\n",
    "\n",
    "def train_and_evaluate(model, param_grid, X_train, y_train, X_test, y_test, model_name):\n",
    "    print(f\"\\nTraining and tuning {model_name}...\")\n",
    "    grid_search = GridSearchCV(model, param_grid, cv=5, scoring='accuracy', n_jobs=-1)\n",
    "    grid_search.fit(X_train, y_train)\n",
    "    best_model = grid_search.best_estimator_\n",
    "    print(f\"Best hyperparameters: {grid_search.best_params_}\")\n",
    "    y_train_pred = best_model.predict(X_train)\n",
    "    y_test_pred = best_model.predict(X_test)\n",
    "    print(f\"{model_name} Train Accuracy: {accuracy_score(y_train, y_train_pred):.4f}\")\n",
    "    print(f\"{model_name} Test Accuracy: {accuracy_score(y_test, y_test_pred):.4f}\")\n",
    "    print(f\"Classification Report for {model_name} (Test set):\")\n",
    "    print(classification_report(y_test, y_test_pred))\n",
    "    cm = confusion_matrix(y_test, y_test_pred)\n",
    "    sns.heatmap(cm, annot=True, fmt='d', cmap='Blues')\n",
    "    plt.title(f'{model_name} Confusion Matrix')\n",
    "    plt.xlabel('Predicted')\n",
    "    plt.ylabel('Actual')\n",
    "    plt.show()\n",
    "    return best_model, accuracy_score(y_test, y_test_pred)\n",
    "\n"
   ]
  },
  {
   "cell_type": "code",
   "execution_count": 12,
   "id": "c4a6e828-e3e1-4662-988d-662f4d54792d",
   "metadata": {},
   "outputs": [
    {
     "name": "stdout",
     "output_type": "stream",
     "text": [
      "\n",
      "Training and tuning Random Forest...\n",
      "Best hyperparameters: {'max_depth': None, 'min_samples_split': 5, 'n_estimators': 100}\n",
      "Random Forest Train Accuracy: 1.0000\n",
      "Random Forest Test Accuracy: 0.9932\n",
      "Classification Report for Random Forest (Test set):\n",
      "              precision    recall  f1-score   support\n",
      "\n",
      "          -1       0.99      1.00      0.99       293\n",
      "           1       1.00      0.99      0.99       293\n",
      "\n",
      "    accuracy                           0.99       586\n",
      "   macro avg       0.99      0.99      0.99       586\n",
      "weighted avg       0.99      0.99      0.99       586\n",
      "\n"
     ]
    },
    {
     "data": {
      "image/png": "[encoded data removed]",
      "text/plain": [
       "<Figure size 1200x600 with 2 Axes>"
      ]
     },
     "metadata": {},
     "output_type": "display_data"
    }
   ],
   "source": [
    "# 10. Random Forest Model.\n",
    "# Summary: Train a Random Forest Classifier with hyperparameter tuning.\n",
    "\n",
    "rf = RandomForestClassifier(random_state=42)\n",
    "rf_params = {\n",
    "    'n_estimators': [50, 100],\n",
    "    'max_depth': [10, 20, None],\n",
    "    'min_samples_split': [2, 5],\n",
    "}\n",
    "rf_model, rf_acc = train_and_evaluate(rf, rf_params, X_train_scaled, y_train, X_test_scaled, y_test, \"Random Forest\")\n",
    "\n"
   ]
  },
  {
   "cell_type": "code",
   "execution_count": 13,
   "id": "cffb716c-3236-48a8-b24a-838334124043",
   "metadata": {},
   "outputs": [
    {
     "name": "stdout",
     "output_type": "stream",
     "text": [
      "\n",
      "Training and tuning SVM...\n",
      "Best hyperparameters: {'C': 10, 'gamma': 'scale', 'kernel': 'rbf'}\n",
      "SVM Train Accuracy: 1.0000\n",
      "SVM Test Accuracy: 0.9966\n",
      "Classification Report for SVM (Test set):\n",
      "              precision    recall  f1-score   support\n",
      "\n",
      "          -1       1.00      0.99      1.00       293\n",
      "           1       0.99      1.00      1.00       293\n",
      "\n",
      "    accuracy                           1.00       586\n",
      "   macro avg       1.00      1.00      1.00       586\n",
      "weighted avg       1.00      1.00      1.00       586\n",
      "\n"
     ]
    },
    {
     "data": {
      "image/png": "[encoded data removed]",
      "text/plain": [
       "<Figure size 1200x600 with 2 Axes>"
      ]
     },
     "metadata": {},
     "output_type": "display_data"
    }
   ],
   "source": [
    "# 11. Support Vector Machine Model.\n",
    "# Summary: Train an SVM model with hyperparameter tuning.\n",
    "\n",
    "svm = SVC(random_state=42)\n",
    "svm_params = {\n",
    "    'C': [0.1, 1, 10],\n",
    "    'kernel': ['linear', 'rbf'],\n",
    "    'gamma': ['scale', 'auto'],\n",
    "}\n",
    "svm_model, svm_acc = train_and_evaluate(svm, svm_params, X_train_scaled, y_train, X_test_scaled, y_test, \"SVM\")\n",
    "\n"
   ]
  },
  {
   "cell_type": "code",
   "execution_count": 14,
   "id": "e3d7b774-14c2-4fb4-8713-e7ec6dd1745b",
   "metadata": {},
   "outputs": [
    {
     "name": "stdout",
     "output_type": "stream",
     "text": [
      "\n",
      "Training Naive Bayes...\n",
      "Naive Bayes Train Accuracy: 0.6060\n",
      "Naive Bayes Test Accuracy: 0.6075\n",
      "Classification Report for Naive Bayes (Test set):\n",
      "              precision    recall  f1-score   support\n",
      "\n",
      "          -1       0.94      0.23      0.37       293\n",
      "           1       0.56      0.99      0.72       293\n",
      "\n",
      "    accuracy                           0.61       586\n",
      "   macro avg       0.75      0.61      0.54       586\n",
      "weighted avg       0.75      0.61      0.54       586\n",
      "\n"
     ]
    },
    {
     "data": {
      "image/png": "[encoded data removed]",
      "text/plain": [
       "<Figure size 1200x600 with 2 Axes>"
      ]
     },
     "metadata": {},
     "output_type": "display_data"
    }
   ],
   "source": [
    "# 12. Naive Bayes Model (No hyperparameter tuning).\n",
    "# Summary: Train a Gaussian Naive Bayes model without tuning.\n",
    "\n",
    "print(\"\\nTraining Naive Bayes...\")\n",
    "nb = GaussianNB()\n",
    "nb.fit(X_train_scaled, y_train)\n",
    "y_train_pred = nb.predict(X_train_scaled)\n",
    "y_test_pred = nb.predict(X_test_scaled)\n",
    "print(f\"Naive Bayes Train Accuracy: {accuracy_score(y_train, y_train_pred):.4f}\")\n",
    "print(f\"Naive Bayes Test Accuracy: {accuracy_score(y_test, y_test_pred):.4f}\")\n",
    "print(\"Classification Report for Naive Bayes (Test set):\")\n",
    "print(classification_report(y_test, y_test_pred))\n",
    "cm = confusion_matrix(y_test, y_test_pred)\n",
    "sns.heatmap(cm, annot=True, fmt='d', cmap='Greens')\n",
    "plt.title('Naive Bayes Confusion Matrix')\n",
    "plt.xlabel('Predicted')\n",
    "plt.ylabel('Actual')\n",
    "plt.show()\n",
    "\n"
   ]
  },
  {
   "cell_type": "code",
   "execution_count": 15,
   "id": "39864c43-5cff-488d-a101-c732e9d069eb",
   "metadata": {},
   "outputs": [
    {
     "name": "stdout",
     "output_type": "stream",
     "text": [
      "\n",
      "Model accuracy comparison on test set:\n",
      "Random Forest: 0.9932\n",
      "SVM: 0.9966\n",
      "Naive Bayes: 0.6075\n",
      "\n",
      "Selected best model: SVM\n"
     ]
    }
   ],
   "source": [
    "# 13. Compare all models.\n",
    "# Summary: Compare accuracy scores of all trained models to select the best one.\n",
    "\n",
    "models_accuracy = {\n",
    "    \"Random Forest\": rf_acc,\n",
    "    \"SVM\": svm_acc,\n",
    "    \"Naive Bayes\": accuracy_score(y_test, y_test_pred)\n",
    "}\n",
    "print(\"\\nModel accuracy comparison on test set:\")\n",
    "for model_name, acc in models_accuracy.items():\n",
    "    print(f\"{model_name}: {acc:.4f}\")\n",
    "best_model_name = max(models_accuracy, key=models_accuracy.get)\n",
    "print(f\"\\nSelected best model: {best_model_name}\")\n",
    "best_model = {'Random Forest': rf_model, 'SVM': svm_model, 'Naive Bayes': nb}[best_model_name]\n",
    "\n"
   ]
  },
  {
   "cell_type": "code",
   "execution_count": 16,
   "id": "e5e2f486-a959-4680-9a60-150e3a3a4410",
   "metadata": {},
   "outputs": [
    {
     "name": "stdout",
     "output_type": "stream",
     "text": [
      "Saved best model (SVM) as 'best_yield_model.pkl' and scaler as 'scaler.pkl'\n"
     ]
    }
   ],
   "source": [
    "# 14. Save best model and scaler for future use.\n",
    "# Summary: Save the best performing model and scaler for future predictions.\n",
    "\n",
    "joblib.dump(best_model, 'best_yield_model.pkl')\n",
    "joblib.dump(scaler, 'scaler.pkl')\n",
    "print(f\"Saved best model ({best_model_name}) as 'best_yield_model.pkl' and scaler as 'scaler.pkl'\")\n",
    "\n"
   ]
  },
  {
   "cell_type": "code",
   "execution_count": 17,
   "id": "9c01fdfb-37bf-47fb-8024-2943b2a2a464",
   "metadata": {},
   "outputs": [
    {
     "name": "stdout",
     "output_type": "stream",
     "text": [
      "\n",
      "CONCLUSION:\n",
      "\n",
      "1. Data cleaning and missing value imputation were performed successfully.\n",
      "2. SMOTE was applied to handle class imbalance (if needed).\n",
      "3. Feature scaling ensured model convergence and better performance.\n",
      "4. Random Forest, SVM, and Naive Bayes models were trained and tuned.\n",
      "5. Random Forest or SVM typically performed better; final model chosen based on highest test accuracy.\n",
      "6. This model can be used to predict yield failures early, potentially improving manufacturing efficiency and reducing costs.\n",
      "\n"
     ]
    }
   ],
   "source": [
    "# 15. Conclusion.\n",
    "# Summary: Final summary of the project and results.\n",
    "\n",
    "print(\"\"\"\n",
    "CONCLUSION:\n",
    "\n",
    "1. Data cleaning and missing value imputation were performed successfully.\n",
    "2. SMOTE was applied to handle class imbalance (if needed).\n",
    "3. Feature scaling ensured model convergence and better performance.\n",
    "4. Random Forest, SVM, and Naive Bayes models were trained and tuned.\n",
    "5. Random Forest or SVM typically performed better; final model chosen based on highest test accuracy.\n",
    "6. This model can be used to predict yield failures early, potentially improving manufacturing efficiency and reducing costs.\n",
    "\"\"\")\n",
    "\n"
   ]
  },
  {
   "cell_type": "code",
   "execution_count": null,
   "id": "c0a9938c-c119-419a-90b6-692c1d33ef87",
   "metadata": {},
   "outputs": [],
   "source": []
  }
 ],
 "metadata": {
  "kernelspec": {
   "display_name": "Python 3 (ipykernel)",
   "language": "python",
   "name": "python3"
  },
  "language_info": {
   "codemirror_mode": {
    "name": "ipython",
    "version": 3
   },
   "file_extension": ".py",
   "mimetype": "text/x-python",
   "name": "python",
   "nbconvert_exporter": "python",
   "pygments_lexer": "ipython3",
   "version": "3.12.7"
  }
 },
 "nbformat": 4,
 "nbformat_minor": 5
}
